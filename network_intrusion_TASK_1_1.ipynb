{
  "nbformat": 4,
  "nbformat_minor": 0,
  "metadata": {
    "colab": {
      "provenance": [],
      "authorship_tag": "ABX9TyOr1s0IG4iOQSMr+gDeA2kg",
      "include_colab_link": true
    },
    "kernelspec": {
      "name": "python3",
      "display_name": "Python 3"
    },
    "language_info": {
      "name": "python"
    }
  },
  "cells": [
    {
      "cell_type": "markdown",
      "metadata": {
        "id": "view-in-github",
        "colab_type": "text"
      },
      "source": [
        "<a href=\"https://colab.research.google.com/github/subashreeganesan/network-intrusion/blob/main/network_intrusion_TASK_1_1.ipynb\" target=\"_parent\"><img src=\"https://colab.research.google.com/assets/colab-badge.svg\" alt=\"Open In Colab\"/></a>"
      ]
    },
    {
      "cell_type": "code",
      "execution_count": null,
      "metadata": {
        "colab": {
          "base_uri": "https://localhost:8080/",
          "height": 1000
        },
        "id": "AZxLMYgLR2PS",
        "outputId": "1f052d45-081b-4587-acc9-4156a9237c00"
      },
      "outputs": [
        {
          "output_type": "stream",
          "name": "stdout",
          "text": [
            "Accuracy of DT: 0.999134448932487\n",
            "Precision of DT: 0.9991355557752843\n",
            "Recall of DT: 0.999134448932487\n",
            "F1-score of DT: 0.9991341469853599\n",
            "              precision    recall  f1-score   support\n",
            "\n",
            "           0       1.00      1.00      1.00      2343\n",
            "           1       1.00      1.00      1.00      1123\n",
            "\n",
            "    accuracy                           1.00      3466\n",
            "   macro avg       1.00      1.00      1.00      3466\n",
            "weighted avg       1.00      1.00      1.00      3466\n",
            "\n"
          ]
        },
        {
          "output_type": "display_data",
          "data": {
            "text/plain": [
              "<Figure size 500x500 with 2 Axes>"
            ],
            "image/png": "[encoded data removed]"
          },
          "metadata": {}
        },
        {
          "output_type": "stream",
          "name": "stdout",
          "text": [
            "Accuracy of RF: 0.999134448932487\n",
            "Precision of RF: 0.9991355557752843\n",
            "Recall of RF: 0.999134448932487\n",
            "F1-score of RF: 0.9991341469853599\n",
            "              precision    recall  f1-score   support\n",
            "\n",
            "           0       1.00      1.00      1.00      2343\n",
            "           1       1.00      1.00      1.00      1123\n",
            "\n",
            "    accuracy                           1.00      3466\n",
            "   macro avg       1.00      1.00      1.00      3466\n",
            "weighted avg       1.00      1.00      1.00      3466\n",
            "\n"
          ]
        },
        {
          "output_type": "display_data",
          "data": {
            "text/plain": [
              "<Figure size 500x500 with 2 Axes>"
            ],
            "image/png": "[encoded data removed]"
          },
          "metadata": {}
        }
      ],
      "source": [
        "import warnings\n",
        "warnings.filterwarnings(\"ignore\")\n",
        "\n",
        "import numpy as np\n",
        "import pandas as pd\n",
        "import seaborn as sns\n",
        "import matplotlib.pyplot as plt\n",
        "from sklearn.preprocessing import LabelEncoder\n",
        "from sklearn.model_selection import train_test_split\n",
        "from sklearn.metrics import classification_report,confusion_matrix,accuracy_score,precision_recall_fscore_support\n",
        "from sklearn.metrics import f1_score\n",
        "from sklearn.ensemble import RandomForestClassifier,ExtraTreesClassifier\n",
        "from sklearn.tree import DecisionTreeClassifier\n",
        "import xgboost as xgb\n",
        "from xgboost import plot_importance\n",
        "\n",
        "train_data = pd.read_csv('train_data.csv')\n",
        "test_data = pd.read_csv('test_data.csv')\n",
        "\n",
        "\n",
        "# Split the data into features (X) and labels (y)\n",
        "X_train = train_data.iloc[:, 1:]  # Exclude the first column (class label)\n",
        "y_train = train_data.iloc[:, 0]   # First column as the class label\n",
        "\n",
        "X_test = test_data.iloc[:, 1:]    # Exclude the first column (class label)\n",
        "y_test = test_data.iloc[:, 0]     # First column as the class label\n",
        "\n",
        "'''\n",
        "# Convert all features to discrete by one-hot encoding\n",
        "X_train = pd.get_dummies(X_train)\n",
        "X_test = pd.get_dummies(X_test)\n",
        "'''\n",
        "# Decision tree training and prediction\n",
        "\n",
        "dt = DecisionTreeClassifier(random_state = 0)\n",
        "dt.fit(X_train,y_train)\n",
        "dt_score=dt.score(X_test,y_test)\n",
        "y_predict=dt.predict(X_test)\n",
        "y_true=y_test\n",
        "print('Accuracy of DT: '+ str(dt_score))\n",
        "precision,recall,fscore,none= precision_recall_fscore_support(y_true, y_predict, average='weighted')\n",
        "print('Precision of DT: '+(str(precision)))\n",
        "print('Recall of DT: '+(str(recall)))\n",
        "print('F1-score of DT: '+(str(fscore)))\n",
        "print(classification_report(y_true,y_predict))\n",
        "cm=confusion_matrix(y_true,y_predict)\n",
        "f,ax=plt.subplots(figsize=(5,5))\n",
        "sns.heatmap(cm,annot=True,linewidth=0.5,linecolor=\"red\",fmt=\".0f\",ax=ax)\n",
        "plt.xlabel(\"y_pred\")\n",
        "plt.ylabel(\"y_true\")\n",
        "plt.show()\n",
        "\n",
        "dt_train=dt.predict(X_train)\n",
        "dt_test=dt.predict(X_test)\n",
        "\n",
        "\n",
        "# Random Forest training and prediction\n",
        "\n",
        "rf = RandomForestClassifier(random_state = 0)\n",
        "rf.fit(X_train,y_train)\n",
        "rf_score=rf.score(X_test,y_test)\n",
        "y_predict=rf.predict(X_test)\n",
        "y_true=y_test\n",
        "print('Accuracy of RF: '+ str(rf_score))\n",
        "precision,recall,fscore,none= precision_recall_fscore_support(y_true, y_predict, average='weighted')\n",
        "print('Precision of RF: '+(str(precision)))\n",
        "print('Recall of RF: '+(str(recall)))\n",
        "print('F1-score of RF: '+(str(fscore)))\n",
        "print(classification_report(y_true,y_predict))\n",
        "cm=confusion_matrix(y_true,y_predict)\n",
        "f,ax=plt.subplots(figsize=(5,5))\n",
        "sns.heatmap(cm,annot=True,linewidth=0.5,linecolor=\"red\",fmt=\".0f\",ax=ax)\n",
        "plt.xlabel(\"y_pred\")\n",
        "plt.ylabel(\"y_true\")\n",
        "plt.show()\n",
        "\n",
        "rf_train=rf.predict(X_train)\n",
        "rf_test=rf.predict(X_test)\n",
        "\n",
        "\n",
        "\n",
        "\n",
        "\n"
      ]
    },
    {
      "cell_type": "code",
      "source": [
        "from google.colab import drive\n",
        "drive.mount('/content/drive')"
      ],
      "metadata": {
        "colab": {
          "base_uri": "https://localhost:8080/"
        },
        "id": "xqC6ri3KWRBA",
        "outputId": "804f5b87-fb9d-44c6-b3f5-6fbddd132b95"
      },
      "execution_count": null,
      "outputs": [
        {
          "output_type": "stream",
          "name": "stdout",
          "text": [
            "Mounted at /content/drive\n"
          ]
        }
      ]
    }
  ]
}