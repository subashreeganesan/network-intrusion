{
  "nbformat": 4,
  "nbformat_minor": 0,
  "metadata": {
    "colab": {
      "provenance": [],
      "authorship_tag": "ABX9TyMNBHAvAUc4C28XonjTQeor",
      "include_colab_link": true
    },
    "kernelspec": {
      "name": "python3",
      "display_name": "Python 3"
    },
    "language_info": {
      "name": "python"
    }
  },
  "cells": [
    {
      "cell_type": "markdown",
      "metadata": {
        "id": "view-in-github",
        "colab_type": "text"
      },
      "source": [
        "<a href=\"https://colab.research.google.com/github/subashreeganesan/network-intrusion/blob/main/anamoly_detection.ipynb\" target=\"_parent\"><img src=\"https://colab.research.google.com/assets/colab-badge.svg\" alt=\"Open In Colab\"/></a>"
      ]
    },
    {
      "cell_type": "code",
      "execution_count": null,
      "metadata": {
        "id": "xzquDf0G8LOh"
      },
      "outputs": [],
      "source": [
        "import numpy as np\n",
        "import pandas as pd\n",
        "from sklearn.ensemble import IsolationForest\n",
        "from sklearn.model_selection import GridSearchCV, train_test_split\n",
        "from sklearn.metrics import precision_score, recall_score\n",
        "\n",
        "# Assuming you have your data in X and corresponding labels in y\n",
        "\n",
        "train_data = pd.read_csv('train_data_anamoly_1.csv')\n",
        "test_data = pd.read_csv()\n",
        "\n",
        "\n",
        "model = IsolationForest(random_state=42)\n",
        "param_grid = {\n",
        "    'contamination': np.linspace(0.01, 0.1, 10)  # Contamination values to try\n",
        "}\n",
        "\n",
        "grid_search = GridSearchCV(model, param_grid, scoring='recall', cv=5)\n",
        "grid_search.fit(X_train, y_train)\n",
        "\n",
        "best_contamination = grid_search.best_params_['contamination']\n",
        "\n",
        "best_model = IsolationForest(contamination=best_contamination, random_state=42)\n",
        "best_model.fit(X_train)\n",
        "\n",
        "y_pred = best_model.predict(X_test)\n",
        "y_pred_binary = np.where(y_pred == 1, 1, -1)\n",
        "\n",
        "precision = precision_score(y_test, y_pred_binary, pos_label=-1)\n",
        "recall = recall_score(y_test, y_pred_binary, pos_label=-1)\n",
        "\n",
        "print(f\"Best Contamination: {best_contamination:.4f}\")\n",
        "print(f\"Precision: {precision:.4f}\")\n",
        "print(f\"Recall: {recall:.4f}\")\n",
        "\n",
        "\n"
      ]
    }
  ]
}